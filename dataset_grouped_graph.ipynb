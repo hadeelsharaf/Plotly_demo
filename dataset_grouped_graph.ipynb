{
 "cells": [
  {
   "cell_type": "code",
   "execution_count": null,
   "metadata": {},
   "outputs": [],
   "source": [
    "import pandas as pd\n",
    "import numpy as np\n",
    "import random\n",
    "from datetime import datetime, timedelta\n",
    "\n",
    "# Define the period of 4 months\n",
    "start_date = datetime(2024, 1, 1)\n",
    "end_date = start_date + timedelta(days=30*4)  # Assuming 30 days in each month\n",
    "\n",
    "# Generate date range with week numbers and days\n",
    "date_range = pd.date_range(start=start_date, end=end_date, freq='D')\n",
    "week_numbers = [date.isocalendar()[1] for date in date_range]\n",
    "days = [date.strftime(\"%A\") for date in date_range]\n",
    "\n",
    "# Generate random tip values ranging from 0.5 to 20 dollars\n",
    "tips = [round(random.uniform(0.5, 20), 2) for _ in range(len(date_range))]\n",
    "\n",
    "# Create a DataFrame to store the data\n",
    "data = pd.DataFrame({'Date': date_range, 'Week_Number': week_numbers, 'Day': days, 'Tip': tips})\n",
    "# Add a new column for the month name\n",
    "data['Month'] = data['Date'].dt.month_name()\n",
    "data['Quarter'] = pd.to_datetime(data['Date']).dt.to_period('Q')\n"
   ]
  },
  {
   "cell_type": "code",
   "execution_count": null,
   "metadata": {},
   "outputs": [],
   "source": [
    "# Display the first few rows of the dataset\n",
    "data.info()\n"
   ]
  },
  {
   "cell_type": "code",
   "execution_count": null,
   "metadata": {},
   "outputs": [],
   "source": [
    "data.tail(15)"
   ]
  },
  {
   "cell_type": "code",
   "execution_count": null,
   "metadata": {},
   "outputs": [],
   "source": [
    "import plotly.express as px\n",
    "\n",
    "grouped_data = data[data['Day'].isin(['Saturday','Sunday'])]\n",
    "#.groupby(['Day', 'Week_Number', 'Month'])['Tip'].sum().reset_index()\n",
    "\n",
    "# Concatenate labels for multi-line labels\n",
    "#grouped_data['Label'] = grouped_data['Day'] + '<br>Week ' + grouped_data['Week_Number'].astype(str) + '<br>' + grouped_data['Date']\n",
    "\n",
    "# Create Plotly plot\n",
    "fig = px.box(grouped_data, x='Month', y='Tip', color='Week_Number', \n",
    "             labels={'Tip': 'Total Tips ($)', 'Label': 'Day, Week, Month'},\n",
    "             title='Total Tips by Day, Week, and Month',\n",
    "             hover_name='Day',\n",
    "             hover_data={'Week_Number': True, 'Date': True},\n",
    "             boxmode='group')\n",
    "\n",
    "fig.update_xaxes(tickangle=45, tickmode='linear', dtick=1)\n",
    "\n",
    "fig.show()"
   ]
  },
  {
   "cell_type": "code",
   "execution_count": null,
   "metadata": {},
   "outputs": [],
   "source": [
    "fig = px.box(data, x='Month', y='Tip', color='Week_Number', \n",
    "             title='Tips Distribution by Month and Week',\n",
    "             labels={'Tip': 'Tips ($)', 'Month': 'Month'},\n",
    "             boxmode='group',\n",
    "             category_orders={'Month': ['January', 'February', 'March', 'April']})"
   ]
  },
  {
   "cell_type": "code",
   "execution_count": null,
   "metadata": {},
   "outputs": [],
   "source": [
    "fig.show()"
   ]
  },
  {
   "cell_type": "code",
   "execution_count": null,
   "metadata": {},
   "outputs": [],
   "source": [
    "# Create Plotly box plot\n",
    "fig = px.box(data, x='Month', y='Tip', color='Week_Number', \n",
    "             title='Tips Distribution by Month and Quarter',\n",
    "             labels={'Tip': 'Tips ($)', 'Month': 'Month'},\n",
    "             category_orders={'Month': ['January', 'February', 'March', 'April']})\n",
    "\n",
    "\n",
    "\n",
    "fig.show()"
   ]
  },
  {
   "cell_type": "code",
   "execution_count": null,
   "metadata": {},
   "outputs": [],
   "source": [
    "\n",
    "# Convert 'Quarter' column to string\n",
    "grouped_data['Quarter'] = grouped_data['Quarter'].astype(str)\n",
    "# Define unique quarters, months, and weeks for the axes\n",
    "quarters = grouped_data['Quarter'].unique()\n",
    "months = grouped_data['Month'].unique()\n",
    "weeks = grouped_data['Week_Number'].unique()\n",
    "\n",
    "quarters, months, weeks"
   ]
  },
  {
   "cell_type": "code",
   "execution_count": null,
   "metadata": {},
   "outputs": [],
   "source": [
    "import plotly.graph_objects as go\n",
    "\n",
    "fig = go.Figure()\n",
    "\n",
    "for quarter in quarters:\n",
    "    for month in months:\n",
    "        for week in weeks:\n",
    "            filtered_data = grouped_data[(grouped_data['Week_Number'] == week) & \n",
    "                                         (grouped_data['Month'] == month) & \n",
    "                                         (grouped_data['Quarter'] == quarter)]\n",
    "            if not filtered_data.empty:\n",
    "                fig.add_trace(go.Bar(\n",
    "                    x=[[quarter]*len(filtered_data), [month]*len(filtered_data), [f\"Week {week}\"]*len(filtered_data)],\n",
    "                    y=filtered_data['Tip'],\n",
    "                    name=f\"Week {week}, {month}, {quarter}\"\n",
    "                ))\n",
    "\n",
    "fig.update_layout(title_text=\"Tips Distribution by Week, Month, and Quarter\")\n",
    "\n",
    "fig.show()\n",
    "\n"
   ]
  },
  {
   "cell_type": "code",
   "execution_count": null,
   "metadata": {},
   "outputs": [],
   "source": [
    "fig = go.Figure()\n",
    "\n",
    "for quarter in quarters:\n",
    "    for month in months:\n",
    "        for week in weeks:\n",
    "            filtered_data = grouped_data[(grouped_data['Week_Number'] == week) & \n",
    "                                         (grouped_data['Month'] == month) & \n",
    "                                         (grouped_data['Quarter'] == quarter)]\n",
    "            if not filtered_data.empty:\n",
    "                fig.add_trace(go.Box(\n",
    "                    x=[filtered_data['Quarter'].tolist(),\n",
    "                       filtered_data['Month'].tolist(), \n",
    "                       filtered_data['Week_Number'].tolist(),\n",
    "\n",
    "                       ],\n",
    "                    y=filtered_data['Tip'],\n",
    "                    name=f\"Week {week}, {quarter}\"\n",
    "                ))\n",
    "\n",
    "fig.update_layout(title_text=\"Tips Distribution by Week, Month, and Quarter\",\n",
    "                  boxmode='group')\n",
    "#fig.update_xaxes(type='multicategory')\n",
    "\n",
    "fig.show()"
   ]
  }
 ],
 "metadata": {
  "kernelspec": {
   "display_name": "env",
   "language": "python",
   "name": "python3"
  },
  "language_info": {
   "codemirror_mode": {
    "name": "ipython",
    "version": 3
   },
   "file_extension": ".py",
   "mimetype": "text/x-python",
   "name": "python",
   "nbconvert_exporter": "python",
   "pygments_lexer": "ipython3",
   "version": "3.11.0"
  }
 },
 "nbformat": 4,
 "nbformat_minor": 2
}
