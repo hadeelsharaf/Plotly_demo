{
 "cells": [
  {
   "cell_type": "code",
   "execution_count": 1,
   "metadata": {},
   "outputs": [],
   "source": [
    "import pandas as pd\n",
    "import numpy as np\n",
    "import random\n",
    "from datetime import datetime, timedelta\n",
    "\n",
    "# Define the period of 4 months\n",
    "start_date = datetime(2024, 1, 1)\n",
    "end_date = start_date + timedelta(days=30*4)  # Assuming 30 days in each month\n",
    "\n",
    "# Generate date range with week numbers and days\n",
    "date_range = pd.date_range(start=start_date, end=end_date, freq='D')\n",
    "week_numbers = [date.isocalendar()[1] for date in date_range]\n",
    "days = [date.strftime(\"%A\") for date in date_range]\n",
    "\n",
    "# Generate random tip values ranging from 0.5 to 20 dollars\n",
    "tips = [round(random.uniform(0.5, 20), 2) for _ in range(len(date_range))]\n",
    "\n",
    "# Create a DataFrame to store the data\n",
    "data = pd.DataFrame({'Date': date_range, 'Week_Number': week_numbers, 'Day': days, 'Tip': tips})\n",
    "# Add a new column for the month name\n",
    "data['Month'] = data['Date'].dt.month_name()\n",
    "data['Quarter'] = pd.to_datetime(data['Date']).dt.to_period('Q')\n"
   ]
  },
  {
   "cell_type": "code",
   "execution_count": 2,
   "metadata": {},
   "outputs": [
    {
     "name": "stdout",
     "output_type": "stream",
     "text": [
      "<class 'pandas.core.frame.DataFrame'>\n",
      "RangeIndex: 121 entries, 0 to 120\n",
      "Data columns (total 6 columns):\n",
      " #   Column       Non-Null Count  Dtype         \n",
      "---  ------       --------------  -----         \n",
      " 0   Date         121 non-null    datetime64[ns]\n",
      " 1   Week_Number  121 non-null    int64         \n",
      " 2   Day          121 non-null    object        \n",
      " 3   Tip          121 non-null    float64       \n",
      " 4   Month        121 non-null    object        \n",
      " 5   Quarter      121 non-null    period[Q-DEC] \n",
      "dtypes: datetime64[ns](1), float64(1), int64(1), object(2), period[Q-DEC](1)\n",
      "memory usage: 5.8+ KB\n"
     ]
    }
   ],
   "source": [
    "# Display the first few rows of the dataset\n",
    "data.info()\n"
   ]
  },
  {
   "cell_type": "code",
   "execution_count": 3,
   "metadata": {},
   "outputs": [
    {
     "data": {
      "text/html": [
       "<div>\n",
       "<style scoped>\n",
       "    .dataframe tbody tr th:only-of-type {\n",
       "        vertical-align: middle;\n",
       "    }\n",
       "\n",
       "    .dataframe tbody tr th {\n",
       "        vertical-align: top;\n",
       "    }\n",
       "\n",
       "    .dataframe thead th {\n",
       "        text-align: right;\n",
       "    }\n",
       "</style>\n",
       "<table border=\"1\" class=\"dataframe\">\n",
       "  <thead>\n",
       "    <tr style=\"text-align: right;\">\n",
       "      <th></th>\n",
       "      <th>Date</th>\n",
       "      <th>Week_Number</th>\n",
       "      <th>Day</th>\n",
       "      <th>Tip</th>\n",
       "      <th>Month</th>\n",
       "      <th>Quarter</th>\n",
       "    </tr>\n",
       "  </thead>\n",
       "  <tbody>\n",
       "    <tr>\n",
       "      <th>106</th>\n",
       "      <td>2024-04-16</td>\n",
       "      <td>16</td>\n",
       "      <td>Tuesday</td>\n",
       "      <td>3.98</td>\n",
       "      <td>April</td>\n",
       "      <td>2024Q2</td>\n",
       "    </tr>\n",
       "    <tr>\n",
       "      <th>107</th>\n",
       "      <td>2024-04-17</td>\n",
       "      <td>16</td>\n",
       "      <td>Wednesday</td>\n",
       "      <td>4.45</td>\n",
       "      <td>April</td>\n",
       "      <td>2024Q2</td>\n",
       "    </tr>\n",
       "    <tr>\n",
       "      <th>108</th>\n",
       "      <td>2024-04-18</td>\n",
       "      <td>16</td>\n",
       "      <td>Thursday</td>\n",
       "      <td>13.68</td>\n",
       "      <td>April</td>\n",
       "      <td>2024Q2</td>\n",
       "    </tr>\n",
       "    <tr>\n",
       "      <th>109</th>\n",
       "      <td>2024-04-19</td>\n",
       "      <td>16</td>\n",
       "      <td>Friday</td>\n",
       "      <td>4.16</td>\n",
       "      <td>April</td>\n",
       "      <td>2024Q2</td>\n",
       "    </tr>\n",
       "    <tr>\n",
       "      <th>110</th>\n",
       "      <td>2024-04-20</td>\n",
       "      <td>16</td>\n",
       "      <td>Saturday</td>\n",
       "      <td>13.72</td>\n",
       "      <td>April</td>\n",
       "      <td>2024Q2</td>\n",
       "    </tr>\n",
       "    <tr>\n",
       "      <th>111</th>\n",
       "      <td>2024-04-21</td>\n",
       "      <td>16</td>\n",
       "      <td>Sunday</td>\n",
       "      <td>10.22</td>\n",
       "      <td>April</td>\n",
       "      <td>2024Q2</td>\n",
       "    </tr>\n",
       "    <tr>\n",
       "      <th>112</th>\n",
       "      <td>2024-04-22</td>\n",
       "      <td>17</td>\n",
       "      <td>Monday</td>\n",
       "      <td>14.73</td>\n",
       "      <td>April</td>\n",
       "      <td>2024Q2</td>\n",
       "    </tr>\n",
       "    <tr>\n",
       "      <th>113</th>\n",
       "      <td>2024-04-23</td>\n",
       "      <td>17</td>\n",
       "      <td>Tuesday</td>\n",
       "      <td>1.37</td>\n",
       "      <td>April</td>\n",
       "      <td>2024Q2</td>\n",
       "    </tr>\n",
       "    <tr>\n",
       "      <th>114</th>\n",
       "      <td>2024-04-24</td>\n",
       "      <td>17</td>\n",
       "      <td>Wednesday</td>\n",
       "      <td>18.63</td>\n",
       "      <td>April</td>\n",
       "      <td>2024Q2</td>\n",
       "    </tr>\n",
       "    <tr>\n",
       "      <th>115</th>\n",
       "      <td>2024-04-25</td>\n",
       "      <td>17</td>\n",
       "      <td>Thursday</td>\n",
       "      <td>6.85</td>\n",
       "      <td>April</td>\n",
       "      <td>2024Q2</td>\n",
       "    </tr>\n",
       "    <tr>\n",
       "      <th>116</th>\n",
       "      <td>2024-04-26</td>\n",
       "      <td>17</td>\n",
       "      <td>Friday</td>\n",
       "      <td>1.22</td>\n",
       "      <td>April</td>\n",
       "      <td>2024Q2</td>\n",
       "    </tr>\n",
       "    <tr>\n",
       "      <th>117</th>\n",
       "      <td>2024-04-27</td>\n",
       "      <td>17</td>\n",
       "      <td>Saturday</td>\n",
       "      <td>5.71</td>\n",
       "      <td>April</td>\n",
       "      <td>2024Q2</td>\n",
       "    </tr>\n",
       "    <tr>\n",
       "      <th>118</th>\n",
       "      <td>2024-04-28</td>\n",
       "      <td>17</td>\n",
       "      <td>Sunday</td>\n",
       "      <td>6.64</td>\n",
       "      <td>April</td>\n",
       "      <td>2024Q2</td>\n",
       "    </tr>\n",
       "    <tr>\n",
       "      <th>119</th>\n",
       "      <td>2024-04-29</td>\n",
       "      <td>18</td>\n",
       "      <td>Monday</td>\n",
       "      <td>3.19</td>\n",
       "      <td>April</td>\n",
       "      <td>2024Q2</td>\n",
       "    </tr>\n",
       "    <tr>\n",
       "      <th>120</th>\n",
       "      <td>2024-04-30</td>\n",
       "      <td>18</td>\n",
       "      <td>Tuesday</td>\n",
       "      <td>12.07</td>\n",
       "      <td>April</td>\n",
       "      <td>2024Q2</td>\n",
       "    </tr>\n",
       "  </tbody>\n",
       "</table>\n",
       "</div>"
      ],
      "text/plain": [
       "          Date  Week_Number        Day    Tip  Month Quarter\n",
       "106 2024-04-16           16    Tuesday   3.98  April  2024Q2\n",
       "107 2024-04-17           16  Wednesday   4.45  April  2024Q2\n",
       "108 2024-04-18           16   Thursday  13.68  April  2024Q2\n",
       "109 2024-04-19           16     Friday   4.16  April  2024Q2\n",
       "110 2024-04-20           16   Saturday  13.72  April  2024Q2\n",
       "111 2024-04-21           16     Sunday  10.22  April  2024Q2\n",
       "112 2024-04-22           17     Monday  14.73  April  2024Q2\n",
       "113 2024-04-23           17    Tuesday   1.37  April  2024Q2\n",
       "114 2024-04-24           17  Wednesday  18.63  April  2024Q2\n",
       "115 2024-04-25           17   Thursday   6.85  April  2024Q2\n",
       "116 2024-04-26           17     Friday   1.22  April  2024Q2\n",
       "117 2024-04-27           17   Saturday   5.71  April  2024Q2\n",
       "118 2024-04-28           17     Sunday   6.64  April  2024Q2\n",
       "119 2024-04-29           18     Monday   3.19  April  2024Q2\n",
       "120 2024-04-30           18    Tuesday  12.07  April  2024Q2"
      ]
     },
     "execution_count": 3,
     "metadata": {},
     "output_type": "execute_result"
    }
   ],
   "source": [
    "data.tail(15)"
   ]
  },
  {
   "cell_type": "code",
   "execution_count": null,
   "metadata": {},
   "outputs": [],
   "source": [
    "import plotly.express as px\n",
    "\n",
    "grouped_data = data[data['Day'].isin(['Saturday','Sunday'])]\n",
    "#.groupby(['Day', 'Week_Number', 'Month'])['Tip'].sum().reset_index()\n",
    "\n",
    "# Concatenate labels for multi-line labels\n",
    "#grouped_data['Label'] = grouped_data['Day'] + '<br>Week ' + grouped_data['Week_Number'].astype(str) + '<br>' + grouped_data['Date']\n",
    "\n",
    "# Create Plotly plot\n",
    "fig = px.box(grouped_data, x='Month', y='Tip', color='Week_Number', \n",
    "             labels={'Tip': 'Total Tips ($)', 'Label': 'Day, Week, Month'},\n",
    "             title='Total Tips by Day, Week, and Month',\n",
    "             hover_name='Day',\n",
    "             hover_data={'Week_Number': True, 'Date': True},\n",
    "             boxmode='group')\n",
    "\n",
    "fig.update_xaxes(tickangle=45, tickmode='linear', dtick=1)\n",
    "\n",
    "fig.show()"
   ]
  },
  {
   "cell_type": "code",
   "execution_count": 5,
   "metadata": {},
   "outputs": [],
   "source": [
    "fig = px.box(data, x='Month', y='Tip', color='Week_Number', \n",
    "             title='Tips Distribution by Month and Week',\n",
    "             labels={'Tip': 'Tips ($)', 'Month': 'Month'},\n",
    "             boxmode='group',\n",
    "             category_orders={'Month': ['January', 'February', 'March', 'April']})"
   ]
  },
  {
   "cell_type": "code",
   "execution_count": null,
   "metadata": {},
   "outputs": [],
   "source": [
    "fig.show()"
   ]
  },
  {
   "cell_type": "code",
   "execution_count": null,
   "metadata": {},
   "outputs": [],
   "source": [
    "# Create Plotly box plot\n",
    "fig = px.box(data, x='Month', y='Tip', color='Week_Number', \n",
    "             title='Tips Distribution by Month and Quarter',\n",
    "             labels={'Tip': 'Tips ($)', 'Month': 'Month'},\n",
    "             category_orders={'Month': ['January', 'February', 'March', 'April']})\n",
    "\n",
    "\n",
    "\n",
    "fig.show()"
   ]
  },
  {
   "cell_type": "code",
   "execution_count": 8,
   "metadata": {},
   "outputs": [
    {
     "name": "stderr",
     "output_type": "stream",
     "text": [
      "C:\\Users\\hadeel.sharaf\\AppData\\Local\\Temp\\ipykernel_20908\\222184907.py:2: SettingWithCopyWarning:\n",
      "\n",
      "\n",
      "A value is trying to be set on a copy of a slice from a DataFrame.\n",
      "Try using .loc[row_indexer,col_indexer] = value instead\n",
      "\n",
      "See the caveats in the documentation: https://pandas.pydata.org/pandas-docs/stable/user_guide/indexing.html#returning-a-view-versus-a-copy\n",
      "\n"
     ]
    },
    {
     "data": {
      "text/plain": [
       "(array(['2024Q1', '2024Q2'], dtype=object),\n",
       " array(['January', 'February', 'March', 'April'], dtype=object),\n",
       " array([ 1,  2,  3,  4,  5,  6,  7,  8,  9, 10, 11, 12, 13, 14, 15, 16, 17],\n",
       "       dtype=int64))"
      ]
     },
     "execution_count": 8,
     "metadata": {},
     "output_type": "execute_result"
    }
   ],
   "source": [
    "\n",
    "# Convert 'Quarter' column to string\n",
    "grouped_data['Quarter'] = grouped_data['Quarter'].astype(str)\n",
    "# Define unique quarters, months, and weeks for the axes\n",
    "quarters = grouped_data['Quarter'].unique()\n",
    "months = grouped_data['Month'].unique()\n",
    "weeks = grouped_data['Week_Number'].unique()\n",
    "\n",
    "quarters, months, weeks"
   ]
  },
  {
   "cell_type": "code",
   "execution_count": 13,
   "metadata": {},
   "outputs": [
    {
     "data": {
      "application/vnd.plotly.v1+json": {
       "config": {
        "plotlyServerURL": "https://plot.ly"
       },
       "data": [
        {
         "name": " January, 2024Q1",
         "type": "bar",
         "x": [
          [
           "2024Q1",
           "2024Q1",
           "2024Q1",
           "2024Q1",
           "2024Q1",
           "2024Q1",
           "2024Q1",
           "2024Q1"
          ],
          [
           "January",
           "January",
           "January",
           "January",
           "January",
           "January",
           "January",
           "January"
          ],
          [
           "Week 17",
           "Week 17",
           "Week 17",
           "Week 17",
           "Week 17",
           "Week 17",
           "Week 17",
           "Week 17"
          ]
         ],
         "y": [
          5.29,
          5.61,
          9.62,
          13.94,
          10.09,
          7.9,
          8.76,
          10.63
         ]
        },
        {
         "name": " February, 2024Q1",
         "type": "bar",
         "x": [
          [
           "2024Q1",
           "2024Q1",
           "2024Q1",
           "2024Q1",
           "2024Q1",
           "2024Q1",
           "2024Q1",
           "2024Q1"
          ],
          [
           "February",
           "February",
           "February",
           "February",
           "February",
           "February",
           "February",
           "February"
          ],
          [
           "Week 17",
           "Week 17",
           "Week 17",
           "Week 17",
           "Week 17",
           "Week 17",
           "Week 17",
           "Week 17"
          ]
         ],
         "y": [
          16.35,
          7.96,
          16.08,
          4.22,
          15.26,
          12.19,
          8.03,
          19.07
         ]
        },
        {
         "name": " March, 2024Q1",
         "type": "bar",
         "x": [
          [
           "2024Q1",
           "2024Q1",
           "2024Q1",
           "2024Q1",
           "2024Q1",
           "2024Q1",
           "2024Q1",
           "2024Q1",
           "2024Q1",
           "2024Q1"
          ],
          [
           "March",
           "March",
           "March",
           "March",
           "March",
           "March",
           "March",
           "March",
           "March",
           "March"
          ],
          [
           "Week 17",
           "Week 17",
           "Week 17",
           "Week 17",
           "Week 17",
           "Week 17",
           "Week 17",
           "Week 17",
           "Week 17",
           "Week 17"
          ]
         ],
         "y": [
          6.32,
          9.1,
          1.98,
          12.62,
          3.59,
          11.32,
          13.21,
          5.85,
          7.19,
          5.83
         ]
        },
        {
         "name": " April, 2024Q2",
         "type": "bar",
         "x": [
          [
           "2024Q2",
           "2024Q2",
           "2024Q2",
           "2024Q2",
           "2024Q2",
           "2024Q2",
           "2024Q2",
           "2024Q2"
          ],
          [
           "April",
           "April",
           "April",
           "April",
           "April",
           "April",
           "April",
           "April"
          ],
          [
           "Week 17",
           "Week 17",
           "Week 17",
           "Week 17",
           "Week 17",
           "Week 17",
           "Week 17",
           "Week 17"
          ]
         ],
         "y": [
          14.49,
          9.89,
          13.3,
          7.17,
          13.72,
          10.22,
          5.71,
          6.64
         ]
        }
       ],
       "layout": {
        "template": {
         "data": {
          "bar": [
           {
            "error_x": {
             "color": "#2a3f5f"
            },
            "error_y": {
             "color": "#2a3f5f"
            },
            "marker": {
             "line": {
              "color": "#E5ECF6",
              "width": 0.5
             },
             "pattern": {
              "fillmode": "overlay",
              "size": 10,
              "solidity": 0.2
             }
            },
            "type": "bar"
           }
          ],
          "barpolar": [
           {
            "marker": {
             "line": {
              "color": "#E5ECF6",
              "width": 0.5
             },
             "pattern": {
              "fillmode": "overlay",
              "size": 10,
              "solidity": 0.2
             }
            },
            "type": "barpolar"
           }
          ],
          "carpet": [
           {
            "aaxis": {
             "endlinecolor": "#2a3f5f",
             "gridcolor": "white",
             "linecolor": "white",
             "minorgridcolor": "white",
             "startlinecolor": "#2a3f5f"
            },
            "baxis": {
             "endlinecolor": "#2a3f5f",
             "gridcolor": "white",
             "linecolor": "white",
             "minorgridcolor": "white",
             "startlinecolor": "#2a3f5f"
            },
            "type": "carpet"
           }
          ],
          "choropleth": [
           {
            "colorbar": {
             "outlinewidth": 0,
             "ticks": ""
            },
            "type": "choropleth"
           }
          ],
          "contour": [
           {
            "colorbar": {
             "outlinewidth": 0,
             "ticks": ""
            },
            "colorscale": [
             [
              0,
              "#0d0887"
             ],
             [
              0.1111111111111111,
              "#46039f"
             ],
             [
              0.2222222222222222,
              "#7201a8"
             ],
             [
              0.3333333333333333,
              "#9c179e"
             ],
             [
              0.4444444444444444,
              "#bd3786"
             ],
             [
              0.5555555555555556,
              "#d8576b"
             ],
             [
              0.6666666666666666,
              "#ed7953"
             ],
             [
              0.7777777777777778,
              "#fb9f3a"
             ],
             [
              0.8888888888888888,
              "#fdca26"
             ],
             [
              1,
              "#f0f921"
             ]
            ],
            "type": "contour"
           }
          ],
          "contourcarpet": [
           {
            "colorbar": {
             "outlinewidth": 0,
             "ticks": ""
            },
            "type": "contourcarpet"
           }
          ],
          "heatmap": [
           {
            "colorbar": {
             "outlinewidth": 0,
             "ticks": ""
            },
            "colorscale": [
             [
              0,
              "#0d0887"
             ],
             [
              0.1111111111111111,
              "#46039f"
             ],
             [
              0.2222222222222222,
              "#7201a8"
             ],
             [
              0.3333333333333333,
              "#9c179e"
             ],
             [
              0.4444444444444444,
              "#bd3786"
             ],
             [
              0.5555555555555556,
              "#d8576b"
             ],
             [
              0.6666666666666666,
              "#ed7953"
             ],
             [
              0.7777777777777778,
              "#fb9f3a"
             ],
             [
              0.8888888888888888,
              "#fdca26"
             ],
             [
              1,
              "#f0f921"
             ]
            ],
            "type": "heatmap"
           }
          ],
          "heatmapgl": [
           {
            "colorbar": {
             "outlinewidth": 0,
             "ticks": ""
            },
            "colorscale": [
             [
              0,
              "#0d0887"
             ],
             [
              0.1111111111111111,
              "#46039f"
             ],
             [
              0.2222222222222222,
              "#7201a8"
             ],
             [
              0.3333333333333333,
              "#9c179e"
             ],
             [
              0.4444444444444444,
              "#bd3786"
             ],
             [
              0.5555555555555556,
              "#d8576b"
             ],
             [
              0.6666666666666666,
              "#ed7953"
             ],
             [
              0.7777777777777778,
              "#fb9f3a"
             ],
             [
              0.8888888888888888,
              "#fdca26"
             ],
             [
              1,
              "#f0f921"
             ]
            ],
            "type": "heatmapgl"
           }
          ],
          "histogram": [
           {
            "marker": {
             "pattern": {
              "fillmode": "overlay",
              "size": 10,
              "solidity": 0.2
             }
            },
            "type": "histogram"
           }
          ],
          "histogram2d": [
           {
            "colorbar": {
             "outlinewidth": 0,
             "ticks": ""
            },
            "colorscale": [
             [
              0,
              "#0d0887"
             ],
             [
              0.1111111111111111,
              "#46039f"
             ],
             [
              0.2222222222222222,
              "#7201a8"
             ],
             [
              0.3333333333333333,
              "#9c179e"
             ],
             [
              0.4444444444444444,
              "#bd3786"
             ],
             [
              0.5555555555555556,
              "#d8576b"
             ],
             [
              0.6666666666666666,
              "#ed7953"
             ],
             [
              0.7777777777777778,
              "#fb9f3a"
             ],
             [
              0.8888888888888888,
              "#fdca26"
             ],
             [
              1,
              "#f0f921"
             ]
            ],
            "type": "histogram2d"
           }
          ],
          "histogram2dcontour": [
           {
            "colorbar": {
             "outlinewidth": 0,
             "ticks": ""
            },
            "colorscale": [
             [
              0,
              "#0d0887"
             ],
             [
              0.1111111111111111,
              "#46039f"
             ],
             [
              0.2222222222222222,
              "#7201a8"
             ],
             [
              0.3333333333333333,
              "#9c179e"
             ],
             [
              0.4444444444444444,
              "#bd3786"
             ],
             [
              0.5555555555555556,
              "#d8576b"
             ],
             [
              0.6666666666666666,
              "#ed7953"
             ],
             [
              0.7777777777777778,
              "#fb9f3a"
             ],
             [
              0.8888888888888888,
              "#fdca26"
             ],
             [
              1,
              "#f0f921"
             ]
            ],
            "type": "histogram2dcontour"
           }
          ],
          "mesh3d": [
           {
            "colorbar": {
             "outlinewidth": 0,
             "ticks": ""
            },
            "type": "mesh3d"
           }
          ],
          "parcoords": [
           {
            "line": {
             "colorbar": {
              "outlinewidth": 0,
              "ticks": ""
             }
            },
            "type": "parcoords"
           }
          ],
          "pie": [
           {
            "automargin": true,
            "type": "pie"
           }
          ],
          "scatter": [
           {
            "fillpattern": {
             "fillmode": "overlay",
             "size": 10,
             "solidity": 0.2
            },
            "type": "scatter"
           }
          ],
          "scatter3d": [
           {
            "line": {
             "colorbar": {
              "outlinewidth": 0,
              "ticks": ""
             }
            },
            "marker": {
             "colorbar": {
              "outlinewidth": 0,
              "ticks": ""
             }
            },
            "type": "scatter3d"
           }
          ],
          "scattercarpet": [
           {
            "marker": {
             "colorbar": {
              "outlinewidth": 0,
              "ticks": ""
             }
            },
            "type": "scattercarpet"
           }
          ],
          "scattergeo": [
           {
            "marker": {
             "colorbar": {
              "outlinewidth": 0,
              "ticks": ""
             }
            },
            "type": "scattergeo"
           }
          ],
          "scattergl": [
           {
            "marker": {
             "colorbar": {
              "outlinewidth": 0,
              "ticks": ""
             }
            },
            "type": "scattergl"
           }
          ],
          "scattermapbox": [
           {
            "marker": {
             "colorbar": {
              "outlinewidth": 0,
              "ticks": ""
             }
            },
            "type": "scattermapbox"
           }
          ],
          "scatterpolar": [
           {
            "marker": {
             "colorbar": {
              "outlinewidth": 0,
              "ticks": ""
             }
            },
            "type": "scatterpolar"
           }
          ],
          "scatterpolargl": [
           {
            "marker": {
             "colorbar": {
              "outlinewidth": 0,
              "ticks": ""
             }
            },
            "type": "scatterpolargl"
           }
          ],
          "scatterternary": [
           {
            "marker": {
             "colorbar": {
              "outlinewidth": 0,
              "ticks": ""
             }
            },
            "type": "scatterternary"
           }
          ],
          "surface": [
           {
            "colorbar": {
             "outlinewidth": 0,
             "ticks": ""
            },
            "colorscale": [
             [
              0,
              "#0d0887"
             ],
             [
              0.1111111111111111,
              "#46039f"
             ],
             [
              0.2222222222222222,
              "#7201a8"
             ],
             [
              0.3333333333333333,
              "#9c179e"
             ],
             [
              0.4444444444444444,
              "#bd3786"
             ],
             [
              0.5555555555555556,
              "#d8576b"
             ],
             [
              0.6666666666666666,
              "#ed7953"
             ],
             [
              0.7777777777777778,
              "#fb9f3a"
             ],
             [
              0.8888888888888888,
              "#fdca26"
             ],
             [
              1,
              "#f0f921"
             ]
            ],
            "type": "surface"
           }
          ],
          "table": [
           {
            "cells": {
             "fill": {
              "color": "#EBF0F8"
             },
             "line": {
              "color": "white"
             }
            },
            "header": {
             "fill": {
              "color": "#C8D4E3"
             },
             "line": {
              "color": "white"
             }
            },
            "type": "table"
           }
          ]
         },
         "layout": {
          "annotationdefaults": {
           "arrowcolor": "#2a3f5f",
           "arrowhead": 0,
           "arrowwidth": 1
          },
          "autotypenumbers": "strict",
          "coloraxis": {
           "colorbar": {
            "outlinewidth": 0,
            "ticks": ""
           }
          },
          "colorscale": {
           "diverging": [
            [
             0,
             "#8e0152"
            ],
            [
             0.1,
             "#c51b7d"
            ],
            [
             0.2,
             "#de77ae"
            ],
            [
             0.3,
             "#f1b6da"
            ],
            [
             0.4,
             "#fde0ef"
            ],
            [
             0.5,
             "#f7f7f7"
            ],
            [
             0.6,
             "#e6f5d0"
            ],
            [
             0.7,
             "#b8e186"
            ],
            [
             0.8,
             "#7fbc41"
            ],
            [
             0.9,
             "#4d9221"
            ],
            [
             1,
             "#276419"
            ]
           ],
           "sequential": [
            [
             0,
             "#0d0887"
            ],
            [
             0.1111111111111111,
             "#46039f"
            ],
            [
             0.2222222222222222,
             "#7201a8"
            ],
            [
             0.3333333333333333,
             "#9c179e"
            ],
            [
             0.4444444444444444,
             "#bd3786"
            ],
            [
             0.5555555555555556,
             "#d8576b"
            ],
            [
             0.6666666666666666,
             "#ed7953"
            ],
            [
             0.7777777777777778,
             "#fb9f3a"
            ],
            [
             0.8888888888888888,
             "#fdca26"
            ],
            [
             1,
             "#f0f921"
            ]
           ],
           "sequentialminus": [
            [
             0,
             "#0d0887"
            ],
            [
             0.1111111111111111,
             "#46039f"
            ],
            [
             0.2222222222222222,
             "#7201a8"
            ],
            [
             0.3333333333333333,
             "#9c179e"
            ],
            [
             0.4444444444444444,
             "#bd3786"
            ],
            [
             0.5555555555555556,
             "#d8576b"
            ],
            [
             0.6666666666666666,
             "#ed7953"
            ],
            [
             0.7777777777777778,
             "#fb9f3a"
            ],
            [
             0.8888888888888888,
             "#fdca26"
            ],
            [
             1,
             "#f0f921"
            ]
           ]
          },
          "colorway": [
           "#636efa",
           "#EF553B",
           "#00cc96",
           "#ab63fa",
           "#FFA15A",
           "#19d3f3",
           "#FF6692",
           "#B6E880",
           "#FF97FF",
           "#FECB52"
          ],
          "font": {
           "color": "#2a3f5f"
          },
          "geo": {
           "bgcolor": "white",
           "lakecolor": "white",
           "landcolor": "#E5ECF6",
           "showlakes": true,
           "showland": true,
           "subunitcolor": "white"
          },
          "hoverlabel": {
           "align": "left"
          },
          "hovermode": "closest",
          "mapbox": {
           "style": "light"
          },
          "paper_bgcolor": "white",
          "plot_bgcolor": "#E5ECF6",
          "polar": {
           "angularaxis": {
            "gridcolor": "white",
            "linecolor": "white",
            "ticks": ""
           },
           "bgcolor": "#E5ECF6",
           "radialaxis": {
            "gridcolor": "white",
            "linecolor": "white",
            "ticks": ""
           }
          },
          "scene": {
           "xaxis": {
            "backgroundcolor": "#E5ECF6",
            "gridcolor": "white",
            "gridwidth": 2,
            "linecolor": "white",
            "showbackground": true,
            "ticks": "",
            "zerolinecolor": "white"
           },
           "yaxis": {
            "backgroundcolor": "#E5ECF6",
            "gridcolor": "white",
            "gridwidth": 2,
            "linecolor": "white",
            "showbackground": true,
            "ticks": "",
            "zerolinecolor": "white"
           },
           "zaxis": {
            "backgroundcolor": "#E5ECF6",
            "gridcolor": "white",
            "gridwidth": 2,
            "linecolor": "white",
            "showbackground": true,
            "ticks": "",
            "zerolinecolor": "white"
           }
          },
          "shapedefaults": {
           "line": {
            "color": "#2a3f5f"
           }
          },
          "ternary": {
           "aaxis": {
            "gridcolor": "white",
            "linecolor": "white",
            "ticks": ""
           },
           "baxis": {
            "gridcolor": "white",
            "linecolor": "white",
            "ticks": ""
           },
           "bgcolor": "#E5ECF6",
           "caxis": {
            "gridcolor": "white",
            "linecolor": "white",
            "ticks": ""
           }
          },
          "title": {
           "x": 0.05
          },
          "xaxis": {
           "automargin": true,
           "gridcolor": "white",
           "linecolor": "white",
           "ticks": "",
           "title": {
            "standoff": 15
           },
           "zerolinecolor": "white",
           "zerolinewidth": 2
          },
          "yaxis": {
           "automargin": true,
           "gridcolor": "white",
           "linecolor": "white",
           "ticks": "",
           "title": {
            "standoff": 15
           },
           "zerolinecolor": "white",
           "zerolinewidth": 2
          }
         }
        },
        "title": {
         "text": "Tips Distribution by  Month, and Quarter"
        }
       }
      }
     },
     "metadata": {},
     "output_type": "display_data"
    }
   ],
   "source": [
    "import plotly.graph_objects as go\n",
    "\n",
    "fig = go.Figure()\n",
    "\n",
    "for quarter in quarters:\n",
    "    for month in months:\n",
    "\n",
    "            filtered_data = grouped_data[(grouped_data['Month'] == month) & \n",
    "                                         (grouped_data['Quarter'] == quarter)]\n",
    "            if not filtered_data.empty:\n",
    "                fig.add_trace(go.Bar(\n",
    "                    x=[[quarter]*len(filtered_data), [month]*len(filtered_data), [f\"Week {week}\"]*len(filtered_data)],\n",
    "                    y=filtered_data['Tip'],\n",
    "                    name=f\" {month}, {quarter}\"\n",
    "                ))\n",
    "\n",
    "fig.update_layout(title_text=\"Tips Distribution by  Month, and Quarter\")\n",
    "\n",
    "fig.show()\n",
    "\n"
   ]
  },
  {
   "cell_type": "code",
   "execution_count": 12,
   "metadata": {},
   "outputs": [
    {
     "data": {
      "application/vnd.plotly.v1+json": {
       "config": {
        "plotlyServerURL": "https://plot.ly"
       },
       "data": [
        {
         "name": "Week 1, 2024Q1",
         "type": "box",
         "x": [
          [
           "2024Q1",
           "2024Q1"
          ],
          [
           1,
           1
          ]
         ],
         "y": [
          5.29,
          5.61
         ]
        },
        {
         "name": "Week 2, 2024Q1",
         "type": "box",
         "x": [
          [
           "2024Q1",
           "2024Q1"
          ],
          [
           2,
           2
          ]
         ],
         "y": [
          9.62,
          13.94
         ]
        },
        {
         "name": "Week 3, 2024Q1",
         "type": "box",
         "x": [
          [
           "2024Q1",
           "2024Q1"
          ],
          [
           3,
           3
          ]
         ],
         "y": [
          10.09,
          7.9
         ]
        },
        {
         "name": "Week 4, 2024Q1",
         "type": "box",
         "x": [
          [
           "2024Q1",
           "2024Q1"
          ],
          [
           4,
           4
          ]
         ],
         "y": [
          8.76,
          10.63
         ]
        },
        {
         "name": "Week 5, 2024Q1",
         "type": "box",
         "x": [
          [
           "2024Q1",
           "2024Q1"
          ],
          [
           5,
           5
          ]
         ],
         "y": [
          16.35,
          7.96
         ]
        },
        {
         "name": "Week 6, 2024Q1",
         "type": "box",
         "x": [
          [
           "2024Q1",
           "2024Q1"
          ],
          [
           6,
           6
          ]
         ],
         "y": [
          16.08,
          4.22
         ]
        },
        {
         "name": "Week 7, 2024Q1",
         "type": "box",
         "x": [
          [
           "2024Q1",
           "2024Q1"
          ],
          [
           7,
           7
          ]
         ],
         "y": [
          15.26,
          12.19
         ]
        },
        {
         "name": "Week 8, 2024Q1",
         "type": "box",
         "x": [
          [
           "2024Q1",
           "2024Q1"
          ],
          [
           8,
           8
          ]
         ],
         "y": [
          8.03,
          19.07
         ]
        },
        {
         "name": "Week 9, 2024Q1",
         "type": "box",
         "x": [
          [
           "2024Q1",
           "2024Q1"
          ],
          [
           9,
           9
          ]
         ],
         "y": [
          6.32,
          9.1
         ]
        },
        {
         "name": "Week 10, 2024Q1",
         "type": "box",
         "x": [
          [
           "2024Q1",
           "2024Q1"
          ],
          [
           10,
           10
          ]
         ],
         "y": [
          1.98,
          12.62
         ]
        },
        {
         "name": "Week 11, 2024Q1",
         "type": "box",
         "x": [
          [
           "2024Q1",
           "2024Q1"
          ],
          [
           11,
           11
          ]
         ],
         "y": [
          3.59,
          11.32
         ]
        },
        {
         "name": "Week 12, 2024Q1",
         "type": "box",
         "x": [
          [
           "2024Q1",
           "2024Q1"
          ],
          [
           12,
           12
          ]
         ],
         "y": [
          13.21,
          5.85
         ]
        },
        {
         "name": "Week 13, 2024Q1",
         "type": "box",
         "x": [
          [
           "2024Q1",
           "2024Q1"
          ],
          [
           13,
           13
          ]
         ],
         "y": [
          7.19,
          5.83
         ]
        },
        {
         "name": "Week 14, 2024Q2",
         "type": "box",
         "x": [
          [
           "2024Q2",
           "2024Q2"
          ],
          [
           14,
           14
          ]
         ],
         "y": [
          14.49,
          9.89
         ]
        },
        {
         "name": "Week 15, 2024Q2",
         "type": "box",
         "x": [
          [
           "2024Q2",
           "2024Q2"
          ],
          [
           15,
           15
          ]
         ],
         "y": [
          13.3,
          7.17
         ]
        },
        {
         "name": "Week 16, 2024Q2",
         "type": "box",
         "x": [
          [
           "2024Q2",
           "2024Q2"
          ],
          [
           16,
           16
          ]
         ],
         "y": [
          13.72,
          10.22
         ]
        },
        {
         "name": "Week 17, 2024Q2",
         "type": "box",
         "x": [
          [
           "2024Q2",
           "2024Q2"
          ],
          [
           17,
           17
          ]
         ],
         "y": [
          5.71,
          6.64
         ]
        }
       ],
       "layout": {
        "boxmode": "group",
        "template": {
         "data": {
          "bar": [
           {
            "error_x": {
             "color": "#2a3f5f"
            },
            "error_y": {
             "color": "#2a3f5f"
            },
            "marker": {
             "line": {
              "color": "#E5ECF6",
              "width": 0.5
             },
             "pattern": {
              "fillmode": "overlay",
              "size": 10,
              "solidity": 0.2
             }
            },
            "type": "bar"
           }
          ],
          "barpolar": [
           {
            "marker": {
             "line": {
              "color": "#E5ECF6",
              "width": 0.5
             },
             "pattern": {
              "fillmode": "overlay",
              "size": 10,
              "solidity": 0.2
             }
            },
            "type": "barpolar"
           }
          ],
          "carpet": [
           {
            "aaxis": {
             "endlinecolor": "#2a3f5f",
             "gridcolor": "white",
             "linecolor": "white",
             "minorgridcolor": "white",
             "startlinecolor": "#2a3f5f"
            },
            "baxis": {
             "endlinecolor": "#2a3f5f",
             "gridcolor": "white",
             "linecolor": "white",
             "minorgridcolor": "white",
             "startlinecolor": "#2a3f5f"
            },
            "type": "carpet"
           }
          ],
          "choropleth": [
           {
            "colorbar": {
             "outlinewidth": 0,
             "ticks": ""
            },
            "type": "choropleth"
           }
          ],
          "contour": [
           {
            "colorbar": {
             "outlinewidth": 0,
             "ticks": ""
            },
            "colorscale": [
             [
              0,
              "#0d0887"
             ],
             [
              0.1111111111111111,
              "#46039f"
             ],
             [
              0.2222222222222222,
              "#7201a8"
             ],
             [
              0.3333333333333333,
              "#9c179e"
             ],
             [
              0.4444444444444444,
              "#bd3786"
             ],
             [
              0.5555555555555556,
              "#d8576b"
             ],
             [
              0.6666666666666666,
              "#ed7953"
             ],
             [
              0.7777777777777778,
              "#fb9f3a"
             ],
             [
              0.8888888888888888,
              "#fdca26"
             ],
             [
              1,
              "#f0f921"
             ]
            ],
            "type": "contour"
           }
          ],
          "contourcarpet": [
           {
            "colorbar": {
             "outlinewidth": 0,
             "ticks": ""
            },
            "type": "contourcarpet"
           }
          ],
          "heatmap": [
           {
            "colorbar": {
             "outlinewidth": 0,
             "ticks": ""
            },
            "colorscale": [
             [
              0,
              "#0d0887"
             ],
             [
              0.1111111111111111,
              "#46039f"
             ],
             [
              0.2222222222222222,
              "#7201a8"
             ],
             [
              0.3333333333333333,
              "#9c179e"
             ],
             [
              0.4444444444444444,
              "#bd3786"
             ],
             [
              0.5555555555555556,
              "#d8576b"
             ],
             [
              0.6666666666666666,
              "#ed7953"
             ],
             [
              0.7777777777777778,
              "#fb9f3a"
             ],
             [
              0.8888888888888888,
              "#fdca26"
             ],
             [
              1,
              "#f0f921"
             ]
            ],
            "type": "heatmap"
           }
          ],
          "heatmapgl": [
           {
            "colorbar": {
             "outlinewidth": 0,
             "ticks": ""
            },
            "colorscale": [
             [
              0,
              "#0d0887"
             ],
             [
              0.1111111111111111,
              "#46039f"
             ],
             [
              0.2222222222222222,
              "#7201a8"
             ],
             [
              0.3333333333333333,
              "#9c179e"
             ],
             [
              0.4444444444444444,
              "#bd3786"
             ],
             [
              0.5555555555555556,
              "#d8576b"
             ],
             [
              0.6666666666666666,
              "#ed7953"
             ],
             [
              0.7777777777777778,
              "#fb9f3a"
             ],
             [
              0.8888888888888888,
              "#fdca26"
             ],
             [
              1,
              "#f0f921"
             ]
            ],
            "type": "heatmapgl"
           }
          ],
          "histogram": [
           {
            "marker": {
             "pattern": {
              "fillmode": "overlay",
              "size": 10,
              "solidity": 0.2
             }
            },
            "type": "histogram"
           }
          ],
          "histogram2d": [
           {
            "colorbar": {
             "outlinewidth": 0,
             "ticks": ""
            },
            "colorscale": [
             [
              0,
              "#0d0887"
             ],
             [
              0.1111111111111111,
              "#46039f"
             ],
             [
              0.2222222222222222,
              "#7201a8"
             ],
             [
              0.3333333333333333,
              "#9c179e"
             ],
             [
              0.4444444444444444,
              "#bd3786"
             ],
             [
              0.5555555555555556,
              "#d8576b"
             ],
             [
              0.6666666666666666,
              "#ed7953"
             ],
             [
              0.7777777777777778,
              "#fb9f3a"
             ],
             [
              0.8888888888888888,
              "#fdca26"
             ],
             [
              1,
              "#f0f921"
             ]
            ],
            "type": "histogram2d"
           }
          ],
          "histogram2dcontour": [
           {
            "colorbar": {
             "outlinewidth": 0,
             "ticks": ""
            },
            "colorscale": [
             [
              0,
              "#0d0887"
             ],
             [
              0.1111111111111111,
              "#46039f"
             ],
             [
              0.2222222222222222,
              "#7201a8"
             ],
             [
              0.3333333333333333,
              "#9c179e"
             ],
             [
              0.4444444444444444,
              "#bd3786"
             ],
             [
              0.5555555555555556,
              "#d8576b"
             ],
             [
              0.6666666666666666,
              "#ed7953"
             ],
             [
              0.7777777777777778,
              "#fb9f3a"
             ],
             [
              0.8888888888888888,
              "#fdca26"
             ],
             [
              1,
              "#f0f921"
             ]
            ],
            "type": "histogram2dcontour"
           }
          ],
          "mesh3d": [
           {
            "colorbar": {
             "outlinewidth": 0,
             "ticks": ""
            },
            "type": "mesh3d"
           }
          ],
          "parcoords": [
           {
            "line": {
             "colorbar": {
              "outlinewidth": 0,
              "ticks": ""
             }
            },
            "type": "parcoords"
           }
          ],
          "pie": [
           {
            "automargin": true,
            "type": "pie"
           }
          ],
          "scatter": [
           {
            "fillpattern": {
             "fillmode": "overlay",
             "size": 10,
             "solidity": 0.2
            },
            "type": "scatter"
           }
          ],
          "scatter3d": [
           {
            "line": {
             "colorbar": {
              "outlinewidth": 0,
              "ticks": ""
             }
            },
            "marker": {
             "colorbar": {
              "outlinewidth": 0,
              "ticks": ""
             }
            },
            "type": "scatter3d"
           }
          ],
          "scattercarpet": [
           {
            "marker": {
             "colorbar": {
              "outlinewidth": 0,
              "ticks": ""
             }
            },
            "type": "scattercarpet"
           }
          ],
          "scattergeo": [
           {
            "marker": {
             "colorbar": {
              "outlinewidth": 0,
              "ticks": ""
             }
            },
            "type": "scattergeo"
           }
          ],
          "scattergl": [
           {
            "marker": {
             "colorbar": {
              "outlinewidth": 0,
              "ticks": ""
             }
            },
            "type": "scattergl"
           }
          ],
          "scattermapbox": [
           {
            "marker": {
             "colorbar": {
              "outlinewidth": 0,
              "ticks": ""
             }
            },
            "type": "scattermapbox"
           }
          ],
          "scatterpolar": [
           {
            "marker": {
             "colorbar": {
              "outlinewidth": 0,
              "ticks": ""
             }
            },
            "type": "scatterpolar"
           }
          ],
          "scatterpolargl": [
           {
            "marker": {
             "colorbar": {
              "outlinewidth": 0,
              "ticks": ""
             }
            },
            "type": "scatterpolargl"
           }
          ],
          "scatterternary": [
           {
            "marker": {
             "colorbar": {
              "outlinewidth": 0,
              "ticks": ""
             }
            },
            "type": "scatterternary"
           }
          ],
          "surface": [
           {
            "colorbar": {
             "outlinewidth": 0,
             "ticks": ""
            },
            "colorscale": [
             [
              0,
              "#0d0887"
             ],
             [
              0.1111111111111111,
              "#46039f"
             ],
             [
              0.2222222222222222,
              "#7201a8"
             ],
             [
              0.3333333333333333,
              "#9c179e"
             ],
             [
              0.4444444444444444,
              "#bd3786"
             ],
             [
              0.5555555555555556,
              "#d8576b"
             ],
             [
              0.6666666666666666,
              "#ed7953"
             ],
             [
              0.7777777777777778,
              "#fb9f3a"
             ],
             [
              0.8888888888888888,
              "#fdca26"
             ],
             [
              1,
              "#f0f921"
             ]
            ],
            "type": "surface"
           }
          ],
          "table": [
           {
            "cells": {
             "fill": {
              "color": "#EBF0F8"
             },
             "line": {
              "color": "white"
             }
            },
            "header": {
             "fill": {
              "color": "#C8D4E3"
             },
             "line": {
              "color": "white"
             }
            },
            "type": "table"
           }
          ]
         },
         "layout": {
          "annotationdefaults": {
           "arrowcolor": "#2a3f5f",
           "arrowhead": 0,
           "arrowwidth": 1
          },
          "autotypenumbers": "strict",
          "coloraxis": {
           "colorbar": {
            "outlinewidth": 0,
            "ticks": ""
           }
          },
          "colorscale": {
           "diverging": [
            [
             0,
             "#8e0152"
            ],
            [
             0.1,
             "#c51b7d"
            ],
            [
             0.2,
             "#de77ae"
            ],
            [
             0.3,
             "#f1b6da"
            ],
            [
             0.4,
             "#fde0ef"
            ],
            [
             0.5,
             "#f7f7f7"
            ],
            [
             0.6,
             "#e6f5d0"
            ],
            [
             0.7,
             "#b8e186"
            ],
            [
             0.8,
             "#7fbc41"
            ],
            [
             0.9,
             "#4d9221"
            ],
            [
             1,
             "#276419"
            ]
           ],
           "sequential": [
            [
             0,
             "#0d0887"
            ],
            [
             0.1111111111111111,
             "#46039f"
            ],
            [
             0.2222222222222222,
             "#7201a8"
            ],
            [
             0.3333333333333333,
             "#9c179e"
            ],
            [
             0.4444444444444444,
             "#bd3786"
            ],
            [
             0.5555555555555556,
             "#d8576b"
            ],
            [
             0.6666666666666666,
             "#ed7953"
            ],
            [
             0.7777777777777778,
             "#fb9f3a"
            ],
            [
             0.8888888888888888,
             "#fdca26"
            ],
            [
             1,
             "#f0f921"
            ]
           ],
           "sequentialminus": [
            [
             0,
             "#0d0887"
            ],
            [
             0.1111111111111111,
             "#46039f"
            ],
            [
             0.2222222222222222,
             "#7201a8"
            ],
            [
             0.3333333333333333,
             "#9c179e"
            ],
            [
             0.4444444444444444,
             "#bd3786"
            ],
            [
             0.5555555555555556,
             "#d8576b"
            ],
            [
             0.6666666666666666,
             "#ed7953"
            ],
            [
             0.7777777777777778,
             "#fb9f3a"
            ],
            [
             0.8888888888888888,
             "#fdca26"
            ],
            [
             1,
             "#f0f921"
            ]
           ]
          },
          "colorway": [
           "#636efa",
           "#EF553B",
           "#00cc96",
           "#ab63fa",
           "#FFA15A",
           "#19d3f3",
           "#FF6692",
           "#B6E880",
           "#FF97FF",
           "#FECB52"
          ],
          "font": {
           "color": "#2a3f5f"
          },
          "geo": {
           "bgcolor": "white",
           "lakecolor": "white",
           "landcolor": "#E5ECF6",
           "showlakes": true,
           "showland": true,
           "subunitcolor": "white"
          },
          "hoverlabel": {
           "align": "left"
          },
          "hovermode": "closest",
          "mapbox": {
           "style": "light"
          },
          "paper_bgcolor": "white",
          "plot_bgcolor": "#E5ECF6",
          "polar": {
           "angularaxis": {
            "gridcolor": "white",
            "linecolor": "white",
            "ticks": ""
           },
           "bgcolor": "#E5ECF6",
           "radialaxis": {
            "gridcolor": "white",
            "linecolor": "white",
            "ticks": ""
           }
          },
          "scene": {
           "xaxis": {
            "backgroundcolor": "#E5ECF6",
            "gridcolor": "white",
            "gridwidth": 2,
            "linecolor": "white",
            "showbackground": true,
            "ticks": "",
            "zerolinecolor": "white"
           },
           "yaxis": {
            "backgroundcolor": "#E5ECF6",
            "gridcolor": "white",
            "gridwidth": 2,
            "linecolor": "white",
            "showbackground": true,
            "ticks": "",
            "zerolinecolor": "white"
           },
           "zaxis": {
            "backgroundcolor": "#E5ECF6",
            "gridcolor": "white",
            "gridwidth": 2,
            "linecolor": "white",
            "showbackground": true,
            "ticks": "",
            "zerolinecolor": "white"
           }
          },
          "shapedefaults": {
           "line": {
            "color": "#2a3f5f"
           }
          },
          "ternary": {
           "aaxis": {
            "gridcolor": "white",
            "linecolor": "white",
            "ticks": ""
           },
           "baxis": {
            "gridcolor": "white",
            "linecolor": "white",
            "ticks": ""
           },
           "bgcolor": "#E5ECF6",
           "caxis": {
            "gridcolor": "white",
            "linecolor": "white",
            "ticks": ""
           }
          },
          "title": {
           "x": 0.05
          },
          "xaxis": {
           "automargin": true,
           "gridcolor": "white",
           "linecolor": "white",
           "ticks": "",
           "title": {
            "standoff": 15
           },
           "zerolinecolor": "white",
           "zerolinewidth": 2
          },
          "yaxis": {
           "automargin": true,
           "gridcolor": "white",
           "linecolor": "white",
           "ticks": "",
           "title": {
            "standoff": 15
           },
           "zerolinecolor": "white",
           "zerolinewidth": 2
          }
         }
        },
        "title": {
         "text": "Tips Distribution by Week, Month, and Quarter"
        }
       }
      }
     },
     "metadata": {},
     "output_type": "display_data"
    }
   ],
   "source": [
    "fig = go.Figure()\n",
    "\n",
    "for quarter in quarters:\n",
    "        for week in weeks:\n",
    "            filtered_data = grouped_data[(grouped_data['Week_Number'] == week) & \n",
    "                                         (grouped_data['Quarter'] == quarter)]\n",
    "            if not filtered_data.empty:\n",
    "                fig.add_trace(go.Box(\n",
    "                    x=[filtered_data['Quarter'].tolist(),\n",
    "                       #filtered_data['Month'].tolist(), \n",
    "                       filtered_data['Week_Number'].tolist(),\n",
    "\n",
    "                       ],\n",
    "                    y=filtered_data['Tip'],\n",
    "                    name=f\"Week {week}, {quarter}\"\n",
    "                ))\n",
    "\n",
    "fig.update_layout(title_text=\"Tips Distribution by Week, Month, and Quarter\",\n",
    "                  boxmode='group')\n",
    "#fig.update_xaxes(type='multicategory')\n",
    "\n",
    "fig.show()"
   ]
  }
 ],
 "metadata": {
  "kernelspec": {
   "display_name": "env",
   "language": "python",
   "name": "python3"
  },
  "language_info": {
   "codemirror_mode": {
    "name": "ipython",
    "version": 3
   },
   "file_extension": ".py",
   "mimetype": "text/x-python",
   "name": "python",
   "nbconvert_exporter": "python",
   "pygments_lexer": "ipython3",
   "version": "3.11.0"
  }
 },
 "nbformat": 4,
 "nbformat_minor": 2
}
