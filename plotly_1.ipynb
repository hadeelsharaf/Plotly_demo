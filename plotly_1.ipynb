{
 "cells": [
  {
   "cell_type": "markdown",
   "metadata": {},
   "source": [
    "# Plotly\n",
    "\n",
    "## What is Plotly? \n",
    "\n",
    " - Python graphing library makes interactive, publication-quality graphs\n",
    " - plotly graphing libraries support : Python, JS, R, MatLab"
   ]
  },
  {
   "cell_type": "markdown",
   "metadata": {},
   "source": [
    "## Plotly API levels \n",
    " - Plotly Express :  high-level API for creating figures\n",
    " - GraphObject\n",
    " - Figure factory"
   ]
  },
  {
   "cell_type": "markdown",
   "metadata": {},
   "source": [
    "## Plotly Express \n",
    "\n",
    " - this can provide a lot ... \n",
    "\tlike : scatter, line, area, bar, pie, sunburst\n",
    "\thistogram, box, violin"
   ]
  },
  {
   "cell_type": "code",
   "execution_count": null,
   "metadata": {},
   "outputs": [],
   "source": [
    "# use Plotly Data\n",
    "import plotly.express as px\n",
    "df = px.data.iris()\n",
    "df.info()"
   ]
  },
  {
   "cell_type": "code",
   "execution_count": null,
   "metadata": {},
   "outputs": [],
   "source": [
    "fig = px.scatter(df, x=\"sepal_width\", y=\"sepal_length\", color=\"species\")\n",
    "fig.show()"
   ]
  },
  {
   "cell_type": "markdown",
   "metadata": {},
   "source": [
    "- Notice how color from a categorical feature made differnce ! "
   ]
  },
  {
   "cell_type": "code",
   "execution_count": null,
   "metadata": {},
   "outputs": [],
   "source": [
    "# figures can get sophisticated\n",
    "fig2 = px.scatter(df, x=\"sepal_width\", y=\"sepal_length\", color=\"species\", marginal_y=\"violin\",\n",
    "           marginal_x=\"box\", trendline=\"ols\", template=\"simple_white\" , tiltle=\"Iris Dataset with Violin and Box Plots\")\n",
    "fig2.show()"
   ]
  },
  {
   "cell_type": "markdown",
   "metadata": {},
   "source": [
    " - `marginal_y=\"violin\"`: This adds a violin plot to the y-axis margin of the scatter plot to show the distribution of the \"sepal_length\" values.\n",
    " - `marginal_x=\"box\"` : This adds a box plot to the x-axis margin of the scatter plot to show the distribution of the \"sepal_width\" values\n",
    " - `trendline=\"ols\"`: This adds an Ordinary Least Squares (OLS) regression trendline to the scatter plot. The trendline will show the relationship between \"sepal_width\" and \"sepal_length\". Other values can be `none` or `lowess` and it can have options.\n",
    " - `trendline_scope=\"overall\"`\n",
    "\n"
   ]
  },
  {
   "cell_type": "code",
   "execution_count": null,
   "metadata": {},
   "outputs": [],
   "source": []
  },
  {
   "cell_type": "code",
   "execution_count": null,
   "metadata": {},
   "outputs": [],
   "source": []
  }
 ],
 "metadata": {
  "kernelspec": {
   "display_name": "env",
   "language": "python",
   "name": "python3"
  },
  "language_info": {
   "codemirror_mode": {
    "name": "ipython",
    "version": 3
   },
   "file_extension": ".py",
   "mimetype": "text/x-python",
   "name": "python",
   "nbconvert_exporter": "python",
   "pygments_lexer": "ipython3",
   "version": "3.11.0"
  }
 },
 "nbformat": 4,
 "nbformat_minor": 2
}
