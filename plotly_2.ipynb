{
 "cells": [
  {
   "cell_type": "markdown",
   "metadata": {},
   "source": [
    "# Plotly graph_object \n",
    "\n",
    "## What is graph_object? \n",
    "\n",
    "- low-level interface to figures, traces and layouts"
   ]
  },
  {
   "cell_type": "markdown",
   "metadata": {},
   "source": [
    "## Plotly API levels \n",
    " - Plotly Express :  high-level API for creating figures\n",
    " - GraphObject : low-level Graph API\n",
    " - Figure factory"
   ]
  },
  {
   "cell_type": "markdown",
   "metadata": {},
   "source": [
    "## Graph Objects Traces :\n",
    "\n",
    "- **Simple Traces** : Scatter, Scattergl , Bar, Heatmap, Image, Table \n",
    "- **Distribution Traces** : Box, Violin, Histogram\n",
    "- **Finance Traces** : Ohlc, Candlestick , Waterfall , Funnel\n",
    "- **Map Trace**: Scattergeo, Choroplethmapbox\n",
    "- **Specialized Traces** : Scatterpolar, Barpolar, Parcats, Contourcarpet"
   ]
  },
  {
   "cell_type": "code",
   "execution_count": null,
   "metadata": {},
   "outputs": [],
   "source": [
    "# render plotly in vscode\n",
    "import plotly.io as pio\n",
    "pio.renderers.default = \"vscode\""
   ]
  },
  {
   "cell_type": "code",
   "execution_count": null,
   "metadata": {},
   "outputs": [],
   "source": []
  }
 ],
 "metadata": {
  "kernelspec": {
   "display_name": "env",
   "language": "python",
   "name": "python3"
  },
  "language_info": {
   "codemirror_mode": {
    "name": "ipython",
    "version": 3
   },
   "file_extension": ".py",
   "mimetype": "text/x-python",
   "name": "python",
   "nbconvert_exporter": "python",
   "pygments_lexer": "ipython3",
   "version": "3.11.0"
  }
 },
 "nbformat": 4,
 "nbformat_minor": 2
}
